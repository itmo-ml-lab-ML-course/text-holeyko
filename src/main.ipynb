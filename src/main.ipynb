{
 "cells": [
  {
   "cell_type": "code",
   "execution_count": null,
   "id": "initial_id",
   "metadata": {
    "collapsed": true
   },
   "outputs": [],
   "source": [
    "import pandas as pd\n",
    "import numpy as np\n",
    "import matplotlib.pyplot as plt\n",
    "from pandas import DataFrame"
   ]
  },
  {
   "cell_type": "code",
   "outputs": [],
   "source": [
    "import warnings\n",
    "warnings.filterwarnings(\"ignore\")"
   ],
   "metadata": {
    "collapsed": false
   },
   "id": "59dfc78a9f357b9e",
   "execution_count": null
  },
  {
   "cell_type": "code",
   "outputs": [],
   "source": [
    "from config import *\n",
    "\n",
    "data = pd.read_csv(DATA_FILE)\n",
    "data.review = data.review.astype('string')\n",
    "data.sentiment = data.sentiment.replace({'positive': 1, 'negative': 0})\n",
    "data = data[:int(len(data) * 0.75)]"
   ],
   "metadata": {
    "collapsed": false
   },
   "id": "861f1a9a52678c6f",
   "execution_count": null
  },
  {
   "cell_type": "code",
   "outputs": [],
   "source": [
    "from typing import List\n",
    "from collections import Counter\n",
    "from itertools import chain\n",
    "\n",
    "def to_list(df: DataFrame) -> List[str]:\n",
    "    return list(df.values)\n",
    "\n",
    "def word_stat(texts: List[str]) -> Counter:\n",
    "    words = list(chain.from_iterable([text.split() for text in texts]))\n",
    "    return Counter(words)"
   ],
   "metadata": {
    "collapsed": false
   },
   "id": "df884e09879d5b16",
   "execution_count": null
  },
  {
   "cell_type": "code",
   "outputs": [],
   "source": [
    "import nltk\n",
    "from nltk.corpus import stopwords\n",
    "\n",
    "nltk.download('stopwords')\n",
    "\n",
    "eng_stopwords = stopwords.words('english')"
   ],
   "metadata": {
    "collapsed": false
   },
   "id": "1b947cc54c6d1fe4",
   "execution_count": null
  },
  {
   "cell_type": "code",
   "outputs": [],
   "source": [
    "import re\n",
    "from nltk.stem import PorterStemmer\n",
    "from tqdm import tqdm\n",
    "\n",
    "stemmer = PorterStemmer()\n",
    "\n",
    "def preprocess_text(text: str) -> str:\n",
    "    text = text.lower()\n",
    "    text = re.sub(r'<.*>', '', text)\n",
    "    return text\n",
    "\n",
    "def filter_text(text: str) -> str:\n",
    "    is_allowed_ch = lambda ch: ch.isalpha() or ch == ' '\n",
    "    is_not_stopword = lambda word: word not in eng_stopwords\n",
    "    \n",
    "    text = ''.join(list(filter(is_allowed_ch, text)))\n",
    "    text = ' '.join(list(filter(is_not_stopword, text.split())))\n",
    "    text = ' '.join(list(map(stemmer.stem, text.split())))\n",
    "    return text\n",
    "\n",
    "texts = []\n",
    "for text in tqdm(data.review.tolist()):\n",
    "    texts.append(filter_text(preprocess_text(text)))\n",
    "    \n",
    "stat = word_stat(texts)\n",
    "stat.most_common(30)"
   ],
   "metadata": {
    "collapsed": false
   },
   "id": "c17a7f8466787d9b",
   "execution_count": null
  },
  {
   "cell_type": "code",
   "outputs": [],
   "source": [
    "words = [text.split() for text in texts]\n",
    "word_indx = {}\n",
    "sorted_words = sorted(stat.keys(), reverse=True)\n",
    "for i in range(len(sorted_words)):\n",
    "    word_indx[sorted_words[i]] = i\n",
    "\n",
    "\n",
    "word_embeddings = list(map(lambda x: [word_indx[word] for word in x], words))"
   ],
   "metadata": {
    "collapsed": false
   },
   "id": "226a4249dd5cb216",
   "execution_count": null
  },
  {
   "cell_type": "code",
   "outputs": [],
   "source": [
    "m = max(map(len, word_embeddings))\n",
    "X = list(map(lambda x: x + [0] * (m - len(x)), word_embeddings))\n",
    "Y = data.sentiment.values"
   ],
   "metadata": {
    "collapsed": false
   },
   "id": "aba8bc8ef4872b58",
   "execution_count": null
  },
  {
   "cell_type": "code",
   "outputs": [],
   "source": [
    "from sklearn.model_selection import train_test_split\n",
    "import torch as tch\n",
    "from torch import tensor\n",
    "\n",
    "X_train, X_test, Y_train, Y_test = train_test_split(X, Y, test_size=0.4, random_state=23)\n",
    "\n",
    "X_train = tensor(X_train)\n",
    "X_test = tensor(X_test)\n",
    "Y_train = tensor(Y_train)\n",
    "Y_test = tensor(Y_test)"
   ],
   "metadata": {
    "collapsed": false
   },
   "id": "f9050d339ef835c2",
   "execution_count": null
  },
  {
   "cell_type": "code",
   "outputs": [],
   "source": [
    "class CustomModel(tch.nn.Module):\n",
    "    def __init__(self, h_size, out_size, count_words):\n",
    "        super(CustomModel, self).__init__()\n",
    "        self.embedding = tch.nn.Embedding(count_words, h_size)\n",
    "        self.lstm = tch.nn.GRU(h_size, h_size)\n",
    "        self.lin = tch.nn.Linear(h_size, out_size)\n",
    "\n",
    "    def forward(self, x):\n",
    "        x = self.embedding(x)\n",
    "        x = self.lstm(x)[0]\n",
    "        x = self.lin(x[:, -1, :])\n",
    "        return x"
   ],
   "metadata": {
    "collapsed": false
   },
   "id": "6ab30f43f7071dec",
   "execution_count": null
  },
  {
   "cell_type": "markdown",
   "source": [],
   "metadata": {
    "collapsed": false
   },
   "id": "cb37bd925fe1e361"
  },
  {
   "cell_type": "code",
   "outputs": [],
   "source": [
    "from sklearn.metrics import precision_score as prec_score\n",
    "\n",
    "output_size = 2\n",
    "vocab_size = len(word_indx)\n",
    "epochs = 20\n",
    "hidden_size = 10\n",
    "lr = 0.001"
   ],
   "metadata": {
    "collapsed": false
   },
   "id": "a758838631146cac",
   "execution_count": null
  },
  {
   "cell_type": "code",
   "outputs": [],
   "source": [
    "result = []\n",
    "model = CustomModel(hidden_size, output_size, vocab_size)\n",
    "crit = tch.nn.CrossEntropyLoss()\n",
    "optim = tch.optim.RMSprop(model.parameters(), lr=lr)\n",
    "\n",
    "for epoch in range(epochs):\n",
    "    model.train()\n",
    "    optim.zero_grad()\n",
    "    loss = crit(model(X_train), Y_train)\n",
    "    loss.backward()\n",
    "    optim.step()\n",
    "    result.append(loss)\n",
    "\n",
    "model.eval()\n",
    "with tch.no_grad():\n",
    "    test_res = tch.argmax(model(X_test), dim=1).numpy()\n",
    "    train_res = tch.argmax(model(X_train), dim=1).numpy()\n",
    "    \n",
    "    print(prec_score(Y_train, train_res), prec_score(Y_test, test_res))"
   ],
   "metadata": {
    "collapsed": false
   },
   "id": "956cdefda7fd572c",
   "execution_count": null
  },
  {
   "cell_type": "code",
   "outputs": [],
   "source": [
    "with tch.no_grad():\n",
    "    plt.plot(list(range(epochs)), result)"
   ],
   "metadata": {
    "collapsed": false
   },
   "id": "91dc9b93ccdddf4e",
   "execution_count": null
  },
  {
   "cell_type": "code",
   "outputs": [],
   "source": [],
   "metadata": {
    "collapsed": false
   },
   "id": "8ab85628e71ffb35",
   "execution_count": null
  }
 ],
 "metadata": {
  "kernelspec": {
   "display_name": "Python 3",
   "language": "python",
   "name": "python3"
  },
  "language_info": {
   "codemirror_mode": {
    "name": "ipython",
    "version": 2
   },
   "file_extension": ".py",
   "mimetype": "text/x-python",
   "name": "python",
   "nbconvert_exporter": "python",
   "pygments_lexer": "ipython2",
   "version": "2.7.6"
  }
 },
 "nbformat": 4,
 "nbformat_minor": 5
}
